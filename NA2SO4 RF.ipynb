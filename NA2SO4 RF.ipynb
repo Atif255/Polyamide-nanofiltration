{
 "cells": [
  {
   "cell_type": "code",
   "execution_count": null,
   "id": "2dda5b00",
   "metadata": {},
   "outputs": [],
   "source": [
    "import numpy as np\n",
    "import pandas as pd"
   ]
  },
  {
   "cell_type": "code",
   "execution_count": null,
   "id": "29b14da3",
   "metadata": {},
   "outputs": [],
   "source": [
    "data = pd.read_excel(\"Na2SO4.xlsx\")"
   ]
  },
  {
   "cell_type": "code",
   "execution_count": null,
   "id": "ae363469",
   "metadata": {},
   "outputs": [],
   "source": [
    "X = data.drop('Sodium Sulphate',axis=1)"
   ]
  },
  {
   "cell_type": "code",
   "execution_count": null,
   "id": "6dd1aea9",
   "metadata": {},
   "outputs": [],
   "source": [
    "for column in X.columns:\n",
    "    X[column] = X[column].fillna(X[column].mean())"
   ]
  },
  {
   "cell_type": "code",
   "execution_count": null,
   "id": "f0c582e2",
   "metadata": {},
   "outputs": [],
   "source": [
    "Y = data['Sodium Sulphate']"
   ]
  },
  {
   "cell_type": "code",
   "execution_count": null,
   "id": "a398ff06",
   "metadata": {},
   "outputs": [],
   "source": [
    "Y.shape"
   ]
  },
  {
   "cell_type": "code",
   "execution_count": null,
   "id": "b293469c",
   "metadata": {},
   "outputs": [],
   "source": [
    "from sklearn.model_selection import train_test_split\n",
    "x_train, x_test, y_train, y_test = train_test_split(X, Y, test_size = 0.2, random_state = 4)"
   ]
  },
  {
   "cell_type": "code",
   "execution_count": null,
   "id": "96ca34ff",
   "metadata": {},
   "outputs": [],
   "source": [
    "from sklearn.preprocessing import MinMaxScaler\n",
    "mm = MinMaxScaler(feature_range = (0,1))\n",
    "mm.fit(x_train)\n",
    "x_train = mm.transform(x_train)\n",
    "x_test = mm.transform(x_test)"
   ]
  },
  {
   "cell_type": "code",
   "execution_count": null,
   "id": "37ef1c86",
   "metadata": {},
   "outputs": [],
   "source": [
    "from sklearn.ensemble import RandomForestRegressor\n",
    "from sklearn.model_selection import cross_val_score\n",
    "import random"
   ]
  },
  {
   "cell_type": "code",
   "execution_count": null,
   "id": "3013c79a",
   "metadata": {},
   "outputs": [],
   "source": [
    "rfc1 = RandomForestRegressor(n_estimators = 200, max_depth = 9, random_state = 7)"
   ]
  },
  {
   "cell_type": "code",
   "execution_count": null,
   "id": "5be9174e",
   "metadata": {},
   "outputs": [],
   "source": [
    "rfc1.fit(x_train, y_train)"
   ]
  },
  {
   "cell_type": "code",
   "execution_count": null,
   "id": "71d0a6b0",
   "metadata": {},
   "outputs": [],
   "source": [
    "y_pred_test = rfc1.predict(x_test)"
   ]
  },
  {
   "cell_type": "code",
   "execution_count": null,
   "id": "57ccfb6a",
   "metadata": {},
   "outputs": [],
   "source": [
    "from sklearn.metrics import r2_score"
   ]
  },
  {
   "cell_type": "code",
   "execution_count": null,
   "id": "1ddab09d",
   "metadata": {},
   "outputs": [],
   "source": [
    "y_pred_train = rfc1.predict(x_train)"
   ]
  },
  {
   "cell_type": "code",
   "execution_count": null,
   "id": "55fe02b4",
   "metadata": {},
   "outputs": [],
   "source": [
    "train_R = r2_score(y_train, y_pred_train)\n",
    "print(\"R^2 score:\", train_R)"
   ]
  },
  {
   "cell_type": "code",
   "execution_count": null,
   "id": "f8c7b0ca",
   "metadata": {},
   "outputs": [],
   "source": [
    "test_R = r2_score(y_test, y_pred_test)\n",
    "print(\"R^2 score:\", test_R)"
   ]
  },
  {
   "cell_type": "code",
   "execution_count": null,
   "id": "15e25b4e",
   "metadata": {},
   "outputs": [],
   "source": [
    "import matplotlib.pyplot as plt\n",
    "plt.figure(figsize=(10, 6))"
   ]
  },
  {
   "cell_type": "code",
   "execution_count": null,
   "id": "a1e801d7",
   "metadata": {},
   "outputs": [],
   "source": [
    "plt.scatter(y_train, y_pred_train, label='Training Data', s=50, c='blue', alpha=0.7)\n",
    "plt.plot(y_train, y_train, label='Actual Y - Training', c='black', linestyle='--')\n",
    "plt.grid(True, linestyle='--', alpha=0.7)\n",
    "plt.xlabel('Actual Y')\n",
    "plt.ylabel('Predicted Y')"
   ]
  },
  {
   "cell_type": "code",
   "execution_count": null,
   "id": "02cac4f8",
   "metadata": {},
   "outputs": [],
   "source": [
    "plt.scatter(y_test, y_pred_test, label='Training Data', s=50, c='blue', alpha=0.7)\n",
    "plt.plot(y_train, y_train, label='Actual Y - Training', c='black', linestyle='--')\n",
    "plt.grid(True, linestyle='--', alpha=0.7)\n",
    "plt.xlabel('Actual Y')\n",
    "plt.ylabel('Predicted Y')"
   ]
  },
  {
   "cell_type": "code",
   "execution_count": null,
   "id": "09d012c9",
   "metadata": {},
   "outputs": [],
   "source": [
    "random_forest_importance1=list(rfc1.feature_importances_)\n",
    "random_forest_importance1"
   ]
  },
  {
   "cell_type": "code",
   "execution_count": null,
   "id": "f6e40a01",
   "metadata": {},
   "outputs": [],
   "source": [
    "importances = rfc1.feature_importances_\n",
    "\n",
    "sorted_idx = np.argsort(importances)\n",
    "\n",
    "plt.figure(figsize=(10, 6))\n",
    "plt.barh(X.columns[sorted_idx], importances[sorted_idx])\n",
    "plt.xlabel('Relative Importance')\n",
    "plt.ylabel('Feature')\n",
    "plt.title('Feature Importances for Random Forest Regression Model')\n",
    "plt.tight_layout()\n",
    "plt.show()"
   ]
  },
  {
   "cell_type": "code",
   "execution_count": null,
   "id": "bf62c795",
   "metadata": {},
   "outputs": [],
   "source": [
    "!pip install tree"
   ]
  },
  {
   "cell_type": "code",
   "execution_count": null,
   "id": "6a822bdf",
   "metadata": {},
   "outputs": [],
   "source": [
    "feature_names = X.columns.tolist()"
   ]
  },
  {
   "cell_type": "code",
   "execution_count": null,
   "id": "db31e174",
   "metadata": {},
   "outputs": [],
   "source": [
    "from sklearn.tree import plot_tree\n",
    "tree_to_visualize = 0\n",
    "\n",
    "# Plot the selected tree\n",
    "plt.figure(figsize=(20, 10))\n",
    "plot_tree(rfc1.estimators_[tree_to_visualize], feature_names=feature_names, filled=True, rounded=True)\n",
    "plt.show()"
   ]
  },
  {
   "cell_type": "code",
   "execution_count": null,
   "id": "c2e58ce3",
   "metadata": {},
   "outputs": [],
   "source": [
    "from sklearn.metrics import mean_squared_error, mean_absolute_error\n",
    "\n",
    "def calculate_rmse_mae(y_true, y_pred):\n",
    "    \"\"\"Calculates RMSE and MAE between two arrays using scikit-learn.\"\"\"\n",
    "    rmse = mean_squared_error(y_true, y_pred, squared=False)\n",
    "    mae = mean_absolute_error(y_true, y_pred)\n",
    "    return rmse, mae\n",
    "\n",
    "\n",
    "rmse, mae = calculate_rmse_mae(y_train, y_pred_train)\n",
    "\n",
    "print(\"RMSE:\", rmse)\n",
    "print(\"MAE:\", mae)"
   ]
  },
  {
   "cell_type": "code",
   "execution_count": null,
   "id": "9c5b8f8a",
   "metadata": {},
   "outputs": [],
   "source": [
    "y_pred = rfc1.predict(x_test)\n",
    "\n",
    "# Calculate the prediction error\n",
    "error = y_test - y_pred\n",
    "\n",
    "# Draw the histogram of prediction error\n",
    "plt.hist(error, bins=30,edgecolor='black')\n",
    "plt.grid(True)\n",
    "plt.xlabel('Prediction Error')\n",
    "plt.ylabel('Frequency')\n",
    "plt.title('Histogram of Prediction Error')\n",
    "plt.show()"
   ]
  },
  {
   "cell_type": "code",
   "execution_count": null,
   "id": "86922852",
   "metadata": {},
   "outputs": [],
   "source": []
  }
 ],
 "metadata": {
  "kernelspec": {
   "display_name": "Python 3 (ipykernel)",
   "language": "python",
   "name": "python3"
  },
  "language_info": {
   "codemirror_mode": {
    "name": "ipython",
    "version": 3
   },
   "file_extension": ".py",
   "mimetype": "text/x-python",
   "name": "python",
   "nbconvert_exporter": "python",
   "pygments_lexer": "ipython3",
   "version": "3.11.5"
  }
 },
 "nbformat": 4,
 "nbformat_minor": 5
}
