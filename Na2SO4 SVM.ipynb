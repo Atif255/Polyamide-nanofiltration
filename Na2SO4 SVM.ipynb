{
 "cells": [
  {
   "cell_type": "code",
   "execution_count": 1,
   "id": "95b6511a",
   "metadata": {},
   "outputs": [],
   "source": [
    "import numpy as np\n",
    "import pandas as pd"
   ]
  },
  {
   "cell_type": "code",
   "execution_count": 2,
   "id": "cc40b541",
   "metadata": {},
   "outputs": [],
   "source": [
    "data = pd.read_excel(\"Na2SO4.xlsx\")"
   ]
  },
  {
   "cell_type": "code",
   "execution_count": 3,
   "id": "68ba998b",
   "metadata": {},
   "outputs": [],
   "source": [
    "X = data.drop('Sodium Sulphate',axis=1)"
   ]
  },
  {
   "cell_type": "code",
   "execution_count": 4,
   "id": "4ebc7514",
   "metadata": {},
   "outputs": [],
   "source": [
    "Y = data['Sodium Sulphate']"
   ]
  },
  {
   "cell_type": "code",
   "execution_count": 5,
   "id": "d9a6045f",
   "metadata": {},
   "outputs": [],
   "source": [
    "for column in X.columns:\n",
    "    X[column] = X[column].fillna(X[column].mean())"
   ]
  },
  {
   "cell_type": "code",
   "execution_count": 6,
   "id": "8628f683",
   "metadata": {},
   "outputs": [
    {
     "data": {
      "text/plain": [
       "(520,)"
      ]
     },
     "execution_count": 6,
     "metadata": {},
     "output_type": "execute_result"
    }
   ],
   "source": [
    "Y.shape"
   ]
  },
  {
   "cell_type": "code",
   "execution_count": 7,
   "id": "559ddc68",
   "metadata": {},
   "outputs": [],
   "source": [
    "from sklearn.model_selection import train_test_split\n",
    "x_train, x_test, y_train, y_test = train_test_split(X, Y, test_size = 0.25, random_state = 4)"
   ]
  },
  {
   "cell_type": "code",
   "execution_count": 8,
   "id": "52eff889",
   "metadata": {},
   "outputs": [],
   "source": [
    "from sklearn.preprocessing import MinMaxScaler\n",
    "from sklearn.model_selection import train_test_split, GridSearchCV\n",
    "from sklearn.svm import SVR\n",
    "from sklearn.metrics import mean_squared_error, r2_score"
   ]
  },
  {
   "cell_type": "code",
   "execution_count": 9,
   "id": "072b85e7",
   "metadata": {},
   "outputs": [],
   "source": [
    "from sklearn.preprocessing import MinMaxScaler\n",
    "mm = MinMaxScaler(feature_range = (0,2))\n",
    "mm.fit(x_train)\n",
    "x_train = mm.transform(x_train)\n",
    "x_test = mm.transform(x_test)"
   ]
  },
  {
   "cell_type": "code",
   "execution_count": 10,
   "id": "5bbb919b",
   "metadata": {},
   "outputs": [],
   "source": [
    "from sklearn.model_selection import cross_val_score, KFold "
   ]
  },
  {
   "cell_type": "code",
   "execution_count": 11,
   "id": "3e0d60c8",
   "metadata": {},
   "outputs": [
    {
     "data": {
      "text/html": [
       "<style>#sk-container-id-1 {color: black;}#sk-container-id-1 pre{padding: 0;}#sk-container-id-1 div.sk-toggleable {background-color: white;}#sk-container-id-1 label.sk-toggleable__label {cursor: pointer;display: block;width: 100%;margin-bottom: 0;padding: 0.3em;box-sizing: border-box;text-align: center;}#sk-container-id-1 label.sk-toggleable__label-arrow:before {content: \"▸\";float: left;margin-right: 0.25em;color: #696969;}#sk-container-id-1 label.sk-toggleable__label-arrow:hover:before {color: black;}#sk-container-id-1 div.sk-estimator:hover label.sk-toggleable__label-arrow:before {color: black;}#sk-container-id-1 div.sk-toggleable__content {max-height: 0;max-width: 0;overflow: hidden;text-align: left;background-color: #f0f8ff;}#sk-container-id-1 div.sk-toggleable__content pre {margin: 0.2em;color: black;border-radius: 0.25em;background-color: #f0f8ff;}#sk-container-id-1 input.sk-toggleable__control:checked~div.sk-toggleable__content {max-height: 200px;max-width: 100%;overflow: auto;}#sk-container-id-1 input.sk-toggleable__control:checked~label.sk-toggleable__label-arrow:before {content: \"▾\";}#sk-container-id-1 div.sk-estimator input.sk-toggleable__control:checked~label.sk-toggleable__label {background-color: #d4ebff;}#sk-container-id-1 div.sk-label input.sk-toggleable__control:checked~label.sk-toggleable__label {background-color: #d4ebff;}#sk-container-id-1 input.sk-hidden--visually {border: 0;clip: rect(1px 1px 1px 1px);clip: rect(1px, 1px, 1px, 1px);height: 1px;margin: -1px;overflow: hidden;padding: 0;position: absolute;width: 1px;}#sk-container-id-1 div.sk-estimator {font-family: monospace;background-color: #f0f8ff;border: 1px dotted black;border-radius: 0.25em;box-sizing: border-box;margin-bottom: 0.5em;}#sk-container-id-1 div.sk-estimator:hover {background-color: #d4ebff;}#sk-container-id-1 div.sk-parallel-item::after {content: \"\";width: 100%;border-bottom: 1px solid gray;flex-grow: 1;}#sk-container-id-1 div.sk-label:hover label.sk-toggleable__label {background-color: #d4ebff;}#sk-container-id-1 div.sk-serial::before {content: \"\";position: absolute;border-left: 1px solid gray;box-sizing: border-box;top: 0;bottom: 0;left: 50%;z-index: 0;}#sk-container-id-1 div.sk-serial {display: flex;flex-direction: column;align-items: center;background-color: white;padding-right: 0.2em;padding-left: 0.2em;position: relative;}#sk-container-id-1 div.sk-item {position: relative;z-index: 1;}#sk-container-id-1 div.sk-parallel {display: flex;align-items: stretch;justify-content: center;background-color: white;position: relative;}#sk-container-id-1 div.sk-item::before, #sk-container-id-1 div.sk-parallel-item::before {content: \"\";position: absolute;border-left: 1px solid gray;box-sizing: border-box;top: 0;bottom: 0;left: 50%;z-index: -1;}#sk-container-id-1 div.sk-parallel-item {display: flex;flex-direction: column;z-index: 1;position: relative;background-color: white;}#sk-container-id-1 div.sk-parallel-item:first-child::after {align-self: flex-end;width: 50%;}#sk-container-id-1 div.sk-parallel-item:last-child::after {align-self: flex-start;width: 50%;}#sk-container-id-1 div.sk-parallel-item:only-child::after {width: 0;}#sk-container-id-1 div.sk-dashed-wrapped {border: 1px dashed gray;margin: 0 0.4em 0.5em 0.4em;box-sizing: border-box;padding-bottom: 0.4em;background-color: white;}#sk-container-id-1 div.sk-label label {font-family: monospace;font-weight: bold;display: inline-block;line-height: 1.2em;}#sk-container-id-1 div.sk-label-container {text-align: center;}#sk-container-id-1 div.sk-container {/* jupyter's `normalize.less` sets `[hidden] { display: none; }` but bootstrap.min.css set `[hidden] { display: none !important; }` so we also need the `!important` here to be able to override the default hidden behavior on the sphinx rendered scikit-learn.org. See: https://github.com/scikit-learn/scikit-learn/issues/21755 */display: inline-block !important;position: relative;}#sk-container-id-1 div.sk-text-repr-fallback {display: none;}</style><div id=\"sk-container-id-1\" class=\"sk-top-container\"><div class=\"sk-text-repr-fallback\"><pre>GridSearchCV(cv=KFold(n_splits=5, random_state=None, shuffle=False),\n",
       "             estimator=Pipeline(steps=[(&#x27;svr&#x27;, SVR(degree=2))]),\n",
       "             param_grid={&#x27;svr__C&#x27;: [0.5, 0.75, 1, 2, 5, 10, 100, 150],\n",
       "                         &#x27;svr__epsilon&#x27;: [0.05, 0.1, 0.15],\n",
       "                         &#x27;svr__kernel&#x27;: [&#x27;poly&#x27;, &#x27;linear&#x27;, &#x27;rbf&#x27;]},\n",
       "             scoring=&#x27;neg_mean_absolute_error&#x27;)</pre><b>In a Jupyter environment, please rerun this cell to show the HTML representation or trust the notebook. <br />On GitHub, the HTML representation is unable to render, please try loading this page with nbviewer.org.</b></div><div class=\"sk-container\" hidden><div class=\"sk-item sk-dashed-wrapped\"><div class=\"sk-label-container\"><div class=\"sk-label sk-toggleable\"><input class=\"sk-toggleable__control sk-hidden--visually\" id=\"sk-estimator-id-1\" type=\"checkbox\" ><label for=\"sk-estimator-id-1\" class=\"sk-toggleable__label sk-toggleable__label-arrow\">GridSearchCV</label><div class=\"sk-toggleable__content\"><pre>GridSearchCV(cv=KFold(n_splits=5, random_state=None, shuffle=False),\n",
       "             estimator=Pipeline(steps=[(&#x27;svr&#x27;, SVR(degree=2))]),\n",
       "             param_grid={&#x27;svr__C&#x27;: [0.5, 0.75, 1, 2, 5, 10, 100, 150],\n",
       "                         &#x27;svr__epsilon&#x27;: [0.05, 0.1, 0.15],\n",
       "                         &#x27;svr__kernel&#x27;: [&#x27;poly&#x27;, &#x27;linear&#x27;, &#x27;rbf&#x27;]},\n",
       "             scoring=&#x27;neg_mean_absolute_error&#x27;)</pre></div></div></div><div class=\"sk-parallel\"><div class=\"sk-parallel-item\"><div class=\"sk-item\"><div class=\"sk-label-container\"><div class=\"sk-label sk-toggleable\"><input class=\"sk-toggleable__control sk-hidden--visually\" id=\"sk-estimator-id-2\" type=\"checkbox\" ><label for=\"sk-estimator-id-2\" class=\"sk-toggleable__label sk-toggleable__label-arrow\">estimator: Pipeline</label><div class=\"sk-toggleable__content\"><pre>Pipeline(steps=[(&#x27;svr&#x27;, SVR(degree=2))])</pre></div></div></div><div class=\"sk-serial\"><div class=\"sk-item\"><div class=\"sk-serial\"><div class=\"sk-item\"><div class=\"sk-estimator sk-toggleable\"><input class=\"sk-toggleable__control sk-hidden--visually\" id=\"sk-estimator-id-3\" type=\"checkbox\" ><label for=\"sk-estimator-id-3\" class=\"sk-toggleable__label sk-toggleable__label-arrow\">SVR</label><div class=\"sk-toggleable__content\"><pre>SVR(degree=2)</pre></div></div></div></div></div></div></div></div></div></div></div></div>"
      ],
      "text/plain": [
       "GridSearchCV(cv=KFold(n_splits=5, random_state=None, shuffle=False),\n",
       "             estimator=Pipeline(steps=[('svr', SVR(degree=2))]),\n",
       "             param_grid={'svr__C': [0.5, 0.75, 1, 2, 5, 10, 100, 150],\n",
       "                         'svr__epsilon': [0.05, 0.1, 0.15],\n",
       "                         'svr__kernel': ['poly', 'linear', 'rbf']},\n",
       "             scoring='neg_mean_absolute_error')"
      ]
     },
     "execution_count": 11,
     "metadata": {},
     "output_type": "execute_result"
    }
   ],
   "source": [
    "from sklearn.model_selection import KFold, GridSearchCV\n",
    "kf = KFold(n_splits = 5)\n",
    "model = SVR()\n",
    "\n",
    "params = {'svr__C':[0.5, 0.75, 1, 2, 5, 10, 100, 150],\n",
    "          'svr__kernel':['poly', 'linear', 'rbf'],\n",
    "          'svr__epsilon':[0.05,0.1, 0.15]\n",
    "         }\n",
    "\n",
    "from sklearn.pipeline import Pipeline\n",
    "\n",
    "mysteps = [ ('svr',SVR(degree = 2))]\n",
    "\n",
    "my_pipeline = Pipeline(steps = mysteps)\n",
    "\n",
    "gcv = GridSearchCV(my_pipeline, param_grid = params, cv = kf, scoring = 'neg_mean_absolute_error')\n",
    "\n",
    "gcv.fit(x_train, y_train)"
   ]
  },
  {
   "cell_type": "markdown",
   "id": "554c0d88",
   "metadata": {},
   "source": [
    "from sklearn.svm import SVR\n",
    "from sklearn.model_selection import GridSearchCV\n",
    "\n",
    "kernel = ['linear', 'rbf', 'poly']\n",
    "C = [5, 10, 500, 800]\n",
    "gamma = [0.01, 0.1, 1]\n",
    "epsilon = [0.1, 0.2, 0.5]\n",
    "\n",
    "param_grid = {\n",
    "    \"kernel\": kernel,\n",
    "    \"C\": C,\n",
    "    \"gamma\": gamma,\n",
    "    \"epsilon\": epsilon\n",
    "}\n",
    "\n",
    "model = SVR()\n",
    "\n",
    "grid_search = GridSearchCV(model, param_grid, scoring='neg_mean_squared_error')\n",
    "\n",
    "grid_search.fit(x_train, y_train)"
   ]
  },
  {
   "cell_type": "code",
   "execution_count": 12,
   "id": "00df2a61",
   "metadata": {},
   "outputs": [
    {
     "data": {
      "text/plain": [
       "{'svr__C': 150, 'svr__epsilon': 0.1, 'svr__kernel': 'rbf'}"
      ]
     },
     "execution_count": 12,
     "metadata": {},
     "output_type": "execute_result"
    }
   ],
   "source": [
    "gcv.best_params_"
   ]
  },
  {
   "cell_type": "code",
   "execution_count": 13,
   "id": "623c285b",
   "metadata": {},
   "outputs": [
    {
     "data": {
      "text/plain": [
       "-5.68337581240692"
      ]
     },
     "execution_count": 13,
     "metadata": {},
     "output_type": "execute_result"
    }
   ],
   "source": [
    "gcv.best_score_"
   ]
  },
  {
   "cell_type": "code",
   "execution_count": 14,
   "id": "747fe326",
   "metadata": {},
   "outputs": [
    {
     "name": "stdout",
     "output_type": "stream",
     "text": [
      "Mean Squared Error: 305.819196284173\n",
      "Best parameters: {'svr__C': 150, 'svr__epsilon': 0.1, 'svr__kernel': 'rbf'}\n"
     ]
    }
   ],
   "source": [
    "best_model = gcv.best_estimator_\n",
    "best_params = gcv.best_params_\n",
    "\n",
    "# Make predictions on the test data\n",
    "y_pred_test = best_model.predict(x_test)\n",
    "\n",
    "# Evaluate the model performance\n",
    "mse = mean_squared_error(y_test, y_pred_test)\n",
    "print(\"Mean Squared Error:\", mse)\n",
    "\n",
    "# Print the best parameters\n",
    "print(\"Best parameters:\", best_params)"
   ]
  },
  {
   "cell_type": "code",
   "execution_count": 15,
   "id": "a6d4c44f",
   "metadata": {},
   "outputs": [
    {
     "name": "stdout",
     "output_type": "stream",
     "text": [
      "Best NMAE -5.68337581240692 \n",
      "Best_Params: {'svr__C': 150, 'svr__epsilon': 0.1, 'svr__kernel': 'rbf'}\n"
     ]
    }
   ],
   "source": [
    "print(\"Best NMAE\", gcv.best_score_, \"\\nBest_Params:\",gcv.best_params_)"
   ]
  },
  {
   "cell_type": "code",
   "execution_count": 16,
   "id": "cd2a6a14",
   "metadata": {},
   "outputs": [
    {
     "name": "stdout",
     "output_type": "stream",
     "text": [
      "Mean Squared Error (MSE) with GridSearchCV: 167.42903424074635\n",
      "R2 score with GridSearchCV: 0.5066729983786049\n"
     ]
    }
   ],
   "source": [
    "y_pred_train = gcv.predict(x_train)\n",
    "\n",
    "# Evaluate the model's performance\n",
    "mse_train = mean_squared_error(y_train, y_pred_train)\n",
    "r2_train = r2_score(y_train, y_pred_train)\n",
    "print('Mean Squared Error (MSE) with GridSearchCV:', mse_train)\n",
    "print('R2 score with GridSearchCV:', r2_train)\n"
   ]
  },
  {
   "cell_type": "code",
   "execution_count": 17,
   "id": "37b819c3",
   "metadata": {},
   "outputs": [
    {
     "name": "stdout",
     "output_type": "stream",
     "text": [
      "Mean Squared Error (MSE) with GridSearchCV: 305.819196284173\n",
      "R2 score with GridSearchCV: 0.26709214056582764\n"
     ]
    }
   ],
   "source": [
    "y_pred_test = gcv.predict(x_test)\n",
    "\n",
    "mse_test = mean_squared_error(y_test, y_pred_test)\n",
    "r2_test = r2_score(y_test, y_pred_test)\n",
    "print('Mean Squared Error (MSE) with GridSearchCV:', mse_test)\n",
    "print('R2 score with GridSearchCV:', r2_test)"
   ]
  },
  {
   "cell_type": "code",
   "execution_count": 18,
   "id": "624af490",
   "metadata": {},
   "outputs": [
    {
     "data": {
      "text/plain": [
       "<Figure size 1000x600 with 0 Axes>"
      ]
     },
     "execution_count": 18,
     "metadata": {},
     "output_type": "execute_result"
    },
    {
     "data": {
      "text/plain": [
       "<Figure size 1000x600 with 0 Axes>"
      ]
     },
     "metadata": {},
     "output_type": "display_data"
    }
   ],
   "source": [
    "import matplotlib.pyplot as plt\n",
    "plt.figure(figsize=(10, 6))"
   ]
  },
  {
   "cell_type": "code",
   "execution_count": 19,
   "id": "436bdc16",
   "metadata": {},
   "outputs": [
    {
     "data": {
      "text/plain": [
       "Text(0, 0.5, 'Predicted Y')"
      ]
     },
     "execution_count": 19,
     "metadata": {},
     "output_type": "execute_result"
    },
    {
     "data": {
      "image/png": "[encoded data removed]",
      "text/plain": [
       "<Figure size 640x480 with 1 Axes>"
      ]
     },
     "metadata": {},
     "output_type": "display_data"
    }
   ],
   "source": [
    "plt.scatter(y_train, y_pred_train, label='Training Data', s=50, c = 'blue', alpha = 0.7)\n",
    "plt.plot(y_train, y_train, label='Actual Y - Training', c='black', linestyle ='--')\n",
    "plt.grid(True, linestyle='--', alpha=0.7)\n",
    "plt.xlabel('Actual Y')\n",
    "plt.ylabel('Predicted Y')"
   ]
  },
  {
   "cell_type": "code",
   "execution_count": 20,
   "id": "32e8645b",
   "metadata": {},
   "outputs": [
    {
     "data": {
      "text/plain": [
       "Text(0, 0.5, 'Predicted Y')"
      ]
     },
     "execution_count": 20,
     "metadata": {},
     "output_type": "execute_result"
    },
    {
     "data": {
      "image/png": "[encoded data removed]",
      "text/plain": [
       "<Figure size 640x480 with 1 Axes>"
      ]
     },
     "metadata": {},
     "output_type": "display_data"
    }
   ],
   "source": [
    "plt.scatter(y_test, y_pred_test, label='Testing Data', s = 50, c = 'blue', alpha=0.7)\n",
    "plt.plot(y_test, y_test, label = 'Actual Y - Testing', c = 'black', linestyle='--')\n",
    "plt.grid(True, linestyle='--', alpha=0.7)\n",
    "plt.xlabel('Actual Y')\n",
    "plt.ylabel('Predicted Y')"
   ]
  },
  {
   "cell_type": "code",
   "execution_count": 21,
   "id": "850be248",
   "metadata": {},
   "outputs": [
    {
     "name": "stdout",
     "output_type": "stream",
     "text": [
      "RMSE: 12.939437168623153\n",
      "MAE: 5.057931017954434\n"
     ]
    }
   ],
   "source": [
    "from sklearn.metrics import mean_squared_error, mean_absolute_error\n",
    "\n",
    "def calculate_rmse_mae(y_true, y_pred):\n",
    "    \"\"\"Calculates RMSE and MAE between two arrays using scikit-learn.\"\"\"\n",
    "    rmse = mean_squared_error(y_true, y_pred, squared=False)\n",
    "    mae = mean_absolute_error(y_true, y_pred)\n",
    "    return rmse, mae\n",
    "\n",
    "\n",
    "rmse, mae = calculate_rmse_mae(y_train, y_pred_train)\n",
    "\n",
    "print(\"RMSE:\", rmse)\n",
    "print(\"MAE:\", mae)"
   ]
  },
  {
   "cell_type": "code",
   "execution_count": 23,
   "id": "b6aecd99",
   "metadata": {},
   "outputs": [
    {
     "data": {
      "image/png": "[encoded data removed]",
      "text/plain": [
       "<Figure size 640x480 with 1 Axes>"
      ]
     },
     "metadata": {},
     "output_type": "display_data"
    }
   ],
   "source": [
    "y_pred = gcv.predict(x_test)\n",
    "\n",
    "# Calculate the prediction error\n",
    "error = y_test - y_pred\n",
    "\n",
    "# Draw the histogram of prediction error\n",
    "plt.hist(error, bins=30,edgecolor='black')\n",
    "plt.grid(True)\n",
    "plt.xlabel('Prediction Error')\n",
    "plt.ylabel('Frequency')\n",
    "plt.title('Histogram of Prediction Error')\n",
    "plt.show()"
   ]
  },
  {
   "cell_type": "code",
   "execution_count": null,
   "id": "2ed3143d",
   "metadata": {},
   "outputs": [],
   "source": []
  },
  {
   "cell_type": "code",
   "execution_count": null,
   "id": "a71404f3",
   "metadata": {},
   "outputs": [],
   "source": []
  },
  {
   "cell_type": "code",
   "execution_count": null,
   "id": "9d9e3e7c",
   "metadata": {},
   "outputs": [],
   "source": []
  },
  {
   "cell_type": "code",
   "execution_count": null,
   "id": "988beac5",
   "metadata": {},
   "outputs": [],
   "source": [
    "y_pred = model.predict(x_test)\n",
    "\n",
    "# Calculate the prediction error\n",
    "error = y_test - y_pred\n",
    "\n",
    "# Draw the histogram of prediction error\n",
    "plt.hist(error, bins=30,edgecolor='black')\n",
    "plt.grid(True)\n",
    "plt.xlabel('Prediction Error')\n",
    "plt.ylabel('Frequency')\n",
    "plt.title('Histogram of Prediction Error')\n",
    "plt.show()"
   ]
  },
  {
   "cell_type": "code",
   "execution_count": null,
   "id": "4e15d9dc",
   "metadata": {},
   "outputs": [],
   "source": []
  },
  {
   "cell_type": "code",
   "execution_count": null,
   "id": "94b8c214",
   "metadata": {},
   "outputs": [],
   "source": []
  },
  {
   "cell_type": "code",
   "execution_count": null,
   "id": "54ac53b5",
   "metadata": {},
   "outputs": [],
   "source": []
  },
  {
   "cell_type": "code",
   "execution_count": null,
   "id": "6d85acff",
   "metadata": {},
   "outputs": [],
   "source": []
  },
  {
   "cell_type": "code",
   "execution_count": null,
   "id": "7f2a0b1a",
   "metadata": {},
   "outputs": [],
   "source": []
  },
  {
   "cell_type": "code",
   "execution_count": null,
   "id": "bba8f396",
   "metadata": {},
   "outputs": [],
   "source": [
    "\n",
    "# Get the best model and its parameters\n",
    "best_model = grid_search.best_estimator_\n",
    "best_params = grid_search.best_params_\n",
    "\n",
    "# Make predictions on the test data\n",
    "y_pred_test = best_model.predict(x_test)\n",
    "\n",
    "# Evaluate the model performance\n",
    "mse = mean_squared_error(y_test, y_pred_test)\n",
    "print(\"Mean Squared Error:\", mse)\n",
    "\n",
    "# Print the best parameters\n",
    "print(\"Best parameters:\", best_params)"
   ]
  },
  {
   "cell_type": "code",
   "execution_count": null,
   "id": "e33d05a6",
   "metadata": {
    "scrolled": true
   },
   "outputs": [],
   "source": [
    "print(\"Best NMAE\", grid_search.best_score_, \"\\nBest_Params:\",grid_search.best_params_)"
   ]
  },
  {
   "cell_type": "code",
   "execution_count": null,
   "id": "9c6c549c",
   "metadata": {},
   "outputs": [],
   "source": [
    "y_pred_train = best_model.predict(x_train)\n",
    "\n",
    "# Evaluate the model's performance\n",
    "mse_train = mean_squared_error(y_train, y_pred_train)\n",
    "r2_train = r2_score(y_train, y_pred_train)\n",
    "print('Mean Squared Error (MSE) with GridSearchCV:', mse_train)\n",
    "print('R2 score with GridSearchCV:', r2_train)\n"
   ]
  },
  {
   "cell_type": "code",
   "execution_count": null,
   "id": "96eca4da",
   "metadata": {},
   "outputs": [],
   "source": [
    "y_pred_test = best_model.predict(x_test)\n",
    "\n",
    "mse_test = mean_squared_error(y_test, y_pred_test)\n",
    "r2_test = r2_score(y_test, y_pred_test)\n",
    "print('Mean Squared Error (MSE) with GridSearchCV:', mse_test)\n",
    "print('R2 score with GridSearchCV:', r2_test)"
   ]
  },
  {
   "cell_type": "code",
   "execution_count": null,
   "id": "45c7c8be",
   "metadata": {},
   "outputs": [],
   "source": [
    "import matplotlib.pyplot as plt\n",
    "plt.figure(figsize=(10, 6))"
   ]
  },
  {
   "cell_type": "code",
   "execution_count": null,
   "id": "f51546cb",
   "metadata": {},
   "outputs": [],
   "source": [
    "plt.scatter(y_train, y_pred_train, label='Training Data', s=50, c = 'blue', alpha = 0.7)\n",
    "plt.plot(y_train, y_train, label='Actual Y - Training', c='black', linestyle ='--')\n",
    "plt.xlabel('Actual Y')\n",
    "plt.ylabel('Predicted Y')"
   ]
  },
  {
   "cell_type": "code",
   "execution_count": null,
   "id": "cc7a12ca",
   "metadata": {},
   "outputs": [],
   "source": [
    "plt.scatter(y_test, y_pred_test, label='Testing Data', s = 50, c = 'blue', alpha=0.7)\n",
    "plt.plot(y_test, y_test, label = 'Actual Y - Testing', c = 'black', linestyle='--')\n",
    "plt.xlabel('Actual Y')\n",
    "plt.ylabel('Predicted Y')"
   ]
  },
  {
   "cell_type": "code",
   "execution_count": null,
   "id": "a1e9bc6f",
   "metadata": {},
   "outputs": [],
   "source": []
  }
 ],
 "metadata": {
  "kernelspec": {
   "display_name": "Python 3 (ipykernel)",
   "language": "python",
   "name": "python3"
  },
  "language_info": {
   "codemirror_mode": {
    "name": "ipython",
    "version": 3
   },
   "file_extension": ".py",
   "mimetype": "text/x-python",
   "name": "python",
   "nbconvert_exporter": "python",
   "pygments_lexer": "ipython3",
   "version": "3.11.5"
  }
 },
 "nbformat": 4,
 "nbformat_minor": 5
}
